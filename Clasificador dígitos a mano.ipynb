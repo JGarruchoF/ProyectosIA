{
 "cells": [
  {
   "cell_type": "markdown",
   "metadata": {},
   "source": [
    "###  Autor: Javier Garrucho Fernández"
   ]
  },
  {
   "cell_type": "markdown",
   "metadata": {},
   "source": [
    "## Imágenes de dígitos escritos a manos"
   ]
  },
  {
   "cell_type": "markdown",
   "metadata": {},
   "source": [
    "El conjunto de datos de dígitos escritos a mano se puede cargar en sklearn directamente:"
   ]
  },
  {
   "cell_type": "code",
   "execution_count": 1,
   "metadata": {},
   "outputs": [],
   "source": [
    "from sklearn.datasets import load_digits\n",
    "digitos = load_digits()"
   ]
  },
  {
   "cell_type": "markdown",
   "metadata": {},
   "source": [
    "Podemos incluso visualizar cada dígito del conjunto de datos, y su clase:"
   ]
  },
  {
   "cell_type": "code",
   "execution_count": 2,
   "metadata": {},
   "outputs": [
    {
     "data": {
      "text/plain": [
       "<Figure size 432x288 with 0 Axes>"
      ]
     },
     "metadata": {},
     "output_type": "display_data"
    },
    {
     "data": {
      "image/png": "[encoded data removed]",
      "text/plain": [
       "<Figure size 288x288 with 1 Axes>"
      ]
     },
     "metadata": {
      "needs_background": "light"
     },
     "output_type": "display_data"
    },
    {
     "name": "stdout",
     "output_type": "stream",
     "text": [
      "Clase de la imagen: 6\n"
     ]
    }
   ],
   "source": [
    "import matplotlib.pyplot as plt\n",
    "plt.gray()\n",
    "plt.matshow(digitos.images[234]) \n",
    "plt.show() \n",
    "print(\"Clase de la imagen: {}\".format(digitos.target[234]))"
   ]
  },
  {
   "cell_type": "code",
   "execution_count": 3,
   "metadata": {},
   "outputs": [
    {
     "name": "stderr",
     "output_type": "stream",
     "text": [
      "D:\\Users\\jgarr\\AppData\\Roaming\\Python\\Python37\\site-packages\\sklearn\\externals\\joblib\\__init__.py:15: FutureWarning: sklearn.externals.joblib is deprecated in 0.21 and will be removed in 0.23. Please import this functionality directly from joblib, which can be installed with: pip install joblib. If this warning is raised when loading pickled models, you may need to re-serialize those models with scikit-learn 0.21+.\n",
      "  warnings.warn(msg, category=FutureWarning)\n"
     ]
    }
   ],
   "source": [
    "import mglearn\n",
    "import sklearn\n",
    "import numpy as np"
   ]
  },
  {
   "cell_type": "markdown",
   "metadata": {},
   "source": [
    "Vamos a empezar analizando el conjunto de datos."
   ]
  },
  {
   "cell_type": "code",
   "execution_count": 4,
   "metadata": {},
   "outputs": [
    {
     "name": "stdout",
     "output_type": "stream",
     "text": [
      "[0 1 2 3 4 5 6 7 8 9]\n",
      "(1797, 64)\n"
     ]
    }
   ],
   "source": [
    "print(digitos.target_names) # nos muestra las posible clasificaciones que puede tener cada ejemplo.\n",
    "print(digitos.data.shape) # para ver el tamaño de nuestro conjunto de datos, tanto el numero de ejemplos como de caracteristicas"
   ]
  },
  {
   "cell_type": "markdown",
   "metadata": {},
   "source": [
    "El conjunto de dato consta de 1797 ejemplos y 64 características, que son los 64 pixeles de cada imagen de 8x8"
   ]
  },
  {
   "cell_type": "markdown",
   "metadata": {},
   "source": [
    "También podemos ver la descripción del conjunto de datos:"
   ]
  },
  {
   "cell_type": "code",
   "execution_count": 5,
   "metadata": {},
   "outputs": [
    {
     "name": "stdout",
     "output_type": "stream",
     "text": [
      ".. _digits_dataset:\n",
      "\n",
      "Optical recognition of handwritten digits dataset\n",
      "--------------------------------------------------\n",
      "\n",
      "**Data Set Characteristics:**\n",
      "\n",
      "    :Number of Instances: 5620\n",
      "    :Number of Attributes: 64\n",
      "    :Attribute Information: 8x8 image of integer pixels in the range 0..16.\n",
      "    :Missing Attribute Values: None\n",
      "    :Creator: E. Alpaydin (alpaydin '@' boun.edu.tr)\n",
      "    :Date: July; 1998\n",
      "\n",
      "This is a copy of the test set of the UCI ML hand-written digits datasets\n",
      "https://archive.ics.uci.edu/ml/datasets/Optical+Recognition+of+Handwritten+Digits\n",
      "\n",
      "The data set contains images of hand-written digits: 10 classes where\n",
      "each class refers to a digit.\n",
      "\n",
      "Preprocessing programs made available by NIST were used to extract\n",
      "normalized bitmaps of handwritten digits from a preprinted form. From a\n",
      "total of 43 people, 30 contributed to the training set and different 13\n",
      "to the test set. 32x32 bitmaps are divided into nonoverlapping blocks of\n",
      "4x4 and the number of on pixels are counted in each block. This generates\n",
      "an input matrix of 8x8 where each element is an integer in the range\n",
      "0..16. This reduces dimensionality and gives invariance to small\n",
      "distortions.\n",
      "\n",
      "For info on NIST preprocessing routines, see M. D. Garris, J. L. Blue, G.\n",
      "T. Candela, D. L. Dimmick, J. Geist, P. J. Grother, S. A. Janet, and C.\n",
      "L. Wilson, NIST Form-Based Handprint Recognition System, NISTIR 5469,\n",
      "1994.\n",
      "\n",
      ".. topic:: References\n",
      "\n",
      "  - C. Kaynak (1995) Methods of Combining Multiple Classifiers and Their\n",
      "    Applications to Handwritten Digit Recognition, MSc Thesis, Institute of\n",
      "    Graduate Studies in Science and Engineering, Bogazici University.\n",
      "  - E. Alpaydin, C. Kaynak (1998) Cascading Classifiers, Kybernetika.\n",
      "  - Ken Tang and Ponnuthurai N. Suganthan and Xi Yao and A. Kai Qin.\n",
      "    Linear dimensionalityreduction using relevance weighted LDA. School of\n",
      "    Electrical and Electronic Engineering Nanyang Technological University.\n",
      "    2005.\n",
      "  - Claudio Gentile. A New Approximate Maximal Margin Classification\n",
      "    Algorithm. NIPS. 2000.\n"
     ]
    }
   ],
   "source": [
    "print(digitos.DESCR)"
   ]
  },
  {
   "cell_type": "markdown",
   "metadata": {},
   "source": [
    "Aunque en este caso el número de instancias que nos da la descripción no coincide, esto es porque nos da el tamaño del conjunto de datos original y nosotros estamos trabajando con un conjunto de datos reducido.\n",
    "\n",
    "También podemos hacernos un \"mapa de calor\" de donde se encuentran los píxeles, para ver si hay características (pixeles) más relevantes que otras o alguna irrelevantes. Pero para ello antes vamos a separar el conjunto de test, para que las decisiones que tomemos no sean influidas por el conjunto de test."
   ]
  },
  {
   "cell_type": "code",
   "execution_count": 6,
   "metadata": {},
   "outputs": [],
   "source": [
    "from sklearn.model_selection import train_test_split"
   ]
  },
  {
   "cell_type": "markdown",
   "metadata": {},
   "source": [
    "Dividimos el conjunto de datos en conjunto de entrenamiento (70%) y test (30%)."
   ]
  },
  {
   "cell_type": "code",
   "execution_count": 7,
   "metadata": {},
   "outputs": [],
   "source": [
    "X_train, X_test, y_train, y_test = train_test_split(digitos.data, digitos.target, random_state=0,  test_size=0.30)"
   ]
  },
  {
   "cell_type": "markdown",
   "metadata": {},
   "source": [
    "Ahora hacemos un array con la media de cada pixel de todo el conjunto de entrenamiento."
   ]
  },
  {
   "cell_type": "code",
   "execution_count": 8,
   "metadata": {},
   "outputs": [],
   "source": [
    "mapa = np.zeros((64))\n",
    "n = len(X_train)\n",
    "for a in X_train:\n",
    "    mapa+=a # Sumatorio de todos los pixeles; \n",
    "            # En este caso no es necesario tener en cuenta el overflow ya que no hay tantos datos\n",
    "       \n",
    "mapa = mapa/n\n",
    "mapa = mapa.reshape((8,8)) #Para poderlo mostrar como imagen de 8x8"
   ]
  },
  {
   "cell_type": "markdown",
   "metadata": {},
   "source": [
    "Y lo mostramos:"
   ]
  },
  {
   "cell_type": "code",
   "execution_count": 52,
   "metadata": {},
   "outputs": [
    {
     "data": {
      "text/plain": [
       "<Figure size 432x288 with 0 Axes>"
      ]
     },
     "metadata": {},
     "output_type": "display_data"
    },
    {
     "data": {
      "image/png": "[encoded data removed]",
      "text/plain": [
       "<Figure size 288x288 with 1 Axes>"
      ]
     },
     "metadata": {
      "needs_background": "light"
     },
     "output_type": "display_data"
    }
   ],
   "source": [
    "plt.gray()\n",
    "plt.matshow(mapa) \n",
    "plt.show() "
   ]
  },
  {
   "cell_type": "markdown",
   "metadata": {},
   "source": [
    "Podemos ver que las columnas de los extremos no dan ninguna información, por lo tanto en un caso real se podrían quitar. \n",
    "\n",
    "Esto mismo podríamos hacer separando los datos de cada número para tener más información sobre cada clasificación."
   ]
  },
  {
   "cell_type": "markdown",
   "metadata": {},
   "source": [
    "Dado que todas las carecterísticas tienen valores en un mismo rango, no es necesaria la normalización."
   ]
  },
  {
   "cell_type": "markdown",
   "metadata": {},
   "source": [
    "Para elegir el clasificador compararemos entre varios de ellos:"
   ]
  },
  {
   "cell_type": "markdown",
   "metadata": {},
   "source": [
    "\n",
    "**Regresión logística**"
   ]
  },
  {
   "cell_type": "code",
   "execution_count": 10,
   "metadata": {},
   "outputs": [],
   "source": [
    "from sklearn.linear_model import LogisticRegression"
   ]
  },
  {
   "cell_type": "markdown",
   "metadata": {},
   "source": [
    "Primero entrenamos el modelo:"
   ]
  },
  {
   "cell_type": "code",
   "execution_count": 11,
   "metadata": {},
   "outputs": [],
   "source": [
    "logreg = LogisticRegression(max_iter=10000, C=1, penalty=\"l2\").fit(X_train, y_train)"
   ]
  },
  {
   "cell_type": "markdown",
   "metadata": {},
   "source": [
    "Una vez entrenado con el conjunto de entrenamiento probamos el rendimiento sobre el conjunto de test."
   ]
  },
  {
   "cell_type": "code",
   "execution_count": 12,
   "metadata": {},
   "outputs": [],
   "source": [
    "from sklearn.metrics import accuracy_score\n",
    "from sklearn.metrics import confusion_matrix"
   ]
  },
  {
   "cell_type": "code",
   "execution_count": 13,
   "metadata": {
    "scrolled": true
   },
   "outputs": [
    {
     "name": "stdout",
     "output_type": "stream",
     "text": [
      "Tasa de acierto sobre entrenamiento: 1.000\n",
      "Tasa de acierto sobre test: 0.956\n",
      "Matriz de confusión:\n",
      "[[45  0  0  0  0  0  0  0  0  0]\n",
      " [ 0 48  0  0  0  0  1  0  3  0]\n",
      " [ 0  1 50  2  0  0  0  0  0  0]\n",
      " [ 0  0  0 53  0  0  0  0  1  0]\n",
      " [ 0  0  0  0 47  0  0  1  0  0]\n",
      " [ 0  0  0  0  0 54  1  0  0  2]\n",
      " [ 0  1  0  0  0  0 59  0  0  0]\n",
      " [ 0  0  0  1  1  0  0 51  0  0]\n",
      " [ 0  2  1  0  0  0  1  0 54  3]\n",
      " [ 0  0  0  0  0  1  0  0  1 55]]\n"
     ]
    }
   ],
   "source": [
    "pred_test = logreg.predict(X_test)\n",
    "pred_train = logreg.predict(X_train)\n",
    "\n",
    "print(\"Tasa de acierto sobre entrenamiento: {:.3f}\".format(accuracy_score(y_train, pred_train)))\n",
    "print(\"Tasa de acierto sobre test: {:.3f}\".format(accuracy_score(y_test, pred_test)))\n",
    "print(\"Matriz de confusión:\\n{}\".format(confusion_matrix(y_test, pred_test, labels=digitos.target_names)))"
   ]
  },
  {
   "cell_type": "markdown",
   "metadata": {},
   "source": [
    "Podemos ver que se consigue muy buenos resultados, aunque se puede estar produciendo un ligero sobreajuste, probemos con un valor para C más pequeño:"
   ]
  },
  {
   "cell_type": "code",
   "execution_count": 14,
   "metadata": {},
   "outputs": [
    {
     "name": "stdout",
     "output_type": "stream",
     "text": [
      "Tasa de acierto sobre entrenamiento: 0.995\n",
      "Tasa de acierto sobre test: 0.963\n",
      "Matriz de confusión:\n",
      "[[45  0  0  0  0  0  0  0  0  0]\n",
      " [ 0 48  0  0  0  0  1  0  2  1]\n",
      " [ 0  2 51  0  0  0  0  0  0  0]\n",
      " [ 0  0  0 51  0  0  0  0  2  1]\n",
      " [ 0  0  0  0 47  0  0  1  0  0]\n",
      " [ 0  0  0  0  0 54  1  0  0  2]\n",
      " [ 0  1  0  0  0  0 59  0  0  0]\n",
      " [ 0  0  0  0  2  0  0 51  0  0]\n",
      " [ 0  2  1  0  0  0  0  0 58  0]\n",
      " [ 0  0  0  0  0  1  0  0  0 56]]\n"
     ]
    }
   ],
   "source": [
    "logreg = LogisticRegression(max_iter=10000, C=0.01, penalty=\"l2\").fit(X_train, y_train)\n",
    "pred_test = logreg.predict(X_test)\n",
    "pred_train = logreg.predict(X_train)\n",
    "print(\"Tasa de acierto sobre entrenamiento: {:.3f}\".format(accuracy_score(y_train, pred_train)))\n",
    "print(\"Tasa de acierto sobre test: {:.3f}\".format(accuracy_score(y_test, pred_test)))\n",
    "print(\"Matriz de confusión:\\n{}\".format(confusion_matrix(y_test, pred_test, labels=digitos.target_names)))"
   ]
  },
  {
   "cell_type": "markdown",
   "metadata": {},
   "source": [
    "Ahora obtenemos un poco menos de rendimiento sobre el conjunto de entrenamiento ya que no nos ajustamos a él completamente, sin embargo mejoramos el rendimiento sobre ejemplos que no hemos visto nunca, que es nuestro objetivo.\n",
    "\n",
    "Probemos ahora con regularización Lasso."
   ]
  },
  {
   "cell_type": "code",
   "execution_count": 15,
   "metadata": {},
   "outputs": [
    {
     "name": "stdout",
     "output_type": "stream",
     "text": [
      "Tasa de acierto sobre entrenamiento: 1.000\n",
      "Tasa de acierto sobre test: 0.959\n",
      "Matriz de confusión:\n",
      "[[45  0  0  0  0  0  0  0  0  0]\n",
      " [ 0 50  0  0  0  0  0  0  1  1]\n",
      " [ 1  2 48  2  0  0  0  0  0  0]\n",
      " [ 0  0  0 52  0  0  0  0  1  1]\n",
      " [ 0  0  0  0 47  0  0  1  0  0]\n",
      " [ 0  0  0  0  0 55  1  0  0  1]\n",
      " [ 0  1  0  0  0  0 59  0  0  0]\n",
      " [ 0  0  0  1  1  0  0 51  0  0]\n",
      " [ 0  3  0  0  0  0  0  0 56  2]\n",
      " [ 0  0  0  0  0  1  0  0  1 55]]\n"
     ]
    }
   ],
   "source": [
    "logreg = LogisticRegression(max_iter=10000,solver=\"saga\",penalty=\"l1\")\n",
    "logreg.fit(X_train, y_train)\n",
    "pred_train = logreg.predict(X_train)\n",
    "pred_test = logreg.predict(X_test)\n",
    "print(\"Tasa de acierto sobre entrenamiento: {:.3f}\".format(accuracy_score(y_train, pred_train)))\n",
    "print(\"Tasa de acierto sobre test: {:.3f}\".format(accuracy_score(y_test, pred_test)))\n",
    "print(\"Matriz de confusión:\\n{}\".format(confusion_matrix(y_test, pred_test, labels=digitos.target_names)))"
   ]
  },
  {
   "cell_type": "markdown",
   "metadata": {},
   "source": [
    "De nuevo el clasificador se ajusta perfectamente al conjunto de entrenamiento, pero no tiene tan buen rendimiento sobre el sonjunto de test, probamos con un valor más pequeño para C:"
   ]
  },
  {
   "cell_type": "code",
   "execution_count": 16,
   "metadata": {},
   "outputs": [
    {
     "name": "stdout",
     "output_type": "stream",
     "text": [
      "Tasa de acierto sobre entrenamiento: 0.990\n",
      "Tasa de acierto sobre test: 0.956\n",
      "Matriz de confusión:\n",
      "[[45  0  0  0  0  0  0  0  0  0]\n",
      " [ 0 49  0  0  0  0  1  0  1  1]\n",
      " [ 1  2 48  2  0  0  0  0  0  0]\n",
      " [ 0  0  0 52  0  0  0  0  1  1]\n",
      " [ 0  0  0  0 47  0  0  1  0  0]\n",
      " [ 0  0  0  0  0 54  1  0  0  2]\n",
      " [ 0  1  0  0  0  0 59  0  0  0]\n",
      " [ 0  1  0  0  1  0  0 50  0  1]\n",
      " [ 0  3  1  0  0  0  0  0 57  0]\n",
      " [ 0  0  0  0  0  1  0  0  1 55]]\n"
     ]
    }
   ],
   "source": [
    "logreg = LogisticRegression(max_iter=10000,solver=\"saga\",penalty=\"l1\", C=0.1)\n",
    "logreg.fit(X_train, y_train)\n",
    "pred_train = logreg.predict(X_train)\n",
    "pred_test = logreg.predict(X_test)\n",
    "print(\"Tasa de acierto sobre entrenamiento: {:.3f}\".format(accuracy_score(y_train, pred_train)))\n",
    "print(\"Tasa de acierto sobre test: {:.3f}\".format(accuracy_score(y_test, pred_test)))\n",
    "print(\"Matriz de confusión:\\n{}\".format(confusion_matrix(y_test, pred_test, labels=digitos.target_names)))"
   ]
  },
  {
   "cell_type": "markdown",
   "metadata": {},
   "source": [
    "Se consigue un rendimiento bastante parecido al de L2, probemos con otros métodos."
   ]
  },
  {
   "cell_type": "markdown",
   "metadata": {},
   "source": [
    "**KNN**"
   ]
  },
  {
   "cell_type": "code",
   "execution_count": 17,
   "metadata": {},
   "outputs": [],
   "source": [
    "from sklearn.neighbors import KNeighborsClassifier"
   ]
  },
  {
   "cell_type": "code",
   "execution_count": 18,
   "metadata": {},
   "outputs": [
    {
     "name": "stdout",
     "output_type": "stream",
     "text": [
      "Tasa de acierto sobre entrenamiento: 0.991\n",
      "Tasa de acierto sobre test: 0.987\n",
      "Matriz de confusión:\n",
      "[[45  0  0  0  0  0  0  0  0  0]\n",
      " [ 0 51  0  0  0  1  0  0  0  0]\n",
      " [ 0  0 53  0  0  0  0  0  0  0]\n",
      " [ 0  0  1 53  0  0  0  0  0  0]\n",
      " [ 0  0  0  0 47  0  0  1  0  0]\n",
      " [ 0  0  0  0  0 55  1  0  0  1]\n",
      " [ 0  0  0  0  0  0 60  0  0  0]\n",
      " [ 0  0  0  0  0  0  0 53  0  0]\n",
      " [ 0  0  0  2  0  0  0  0 59  0]\n",
      " [ 0  0  0  0  0  0  0  0  0 57]]\n"
     ]
    }
   ],
   "source": [
    "neigh = KNeighborsClassifier(n_neighbors=3)\n",
    "neigh.fit(X_train, y_train)\n",
    "pred_train = neigh.predict(X_train)\n",
    "pred_test = neigh.predict(X_test)\n",
    "print(\"Tasa de acierto sobre entrenamiento: {:.3f}\".format(accuracy_score(y_train, pred_train)))\n",
    "print(\"Tasa de acierto sobre test: {:.3f}\".format(accuracy_score(y_test, pred_test)))\n",
    "print(\"Matriz de confusión:\\n{}\".format(confusion_matrix(y_test, pred_test, labels=digitos.target_names)))"
   ]
  },
  {
   "cell_type": "markdown",
   "metadata": {},
   "source": [
    "Tras probar diferentes valores para k el mejor rendimiento lo conseguí con k=3 que como podemos ver consigue un rendimiento bastante bueno sobre este conjunto de datos, hasta ahora el mejor obtenido, aunque sigue fallando en algunos casos, por ejemplo ha fallado un par de veces al reconocer el 8 como un 3."
   ]
  },
  {
   "cell_type": "markdown",
   "metadata": {},
   "source": [
    "**SVM**"
   ]
  },
  {
   "cell_type": "markdown",
   "metadata": {},
   "source": [
    "Probemos ahora con una máquina de vectores de soporte:"
   ]
  },
  {
   "cell_type": "code",
   "execution_count": 19,
   "metadata": {},
   "outputs": [],
   "source": [
    "from sklearn import svm"
   ]
  },
  {
   "cell_type": "code",
   "execution_count": 20,
   "metadata": {},
   "outputs": [
    {
     "name": "stdout",
     "output_type": "stream",
     "text": [
      "Tasa de acierto sobre entrenamiento: 0.994\n",
      "Tasa de acierto sobre test: 0.991\n",
      "Matriz de confusión:\n",
      "[[45  0  0  0  0  0  0  0  0  0]\n",
      " [ 0 52  0  0  0  0  0  0  0  0]\n",
      " [ 0  0 53  0  0  0  0  0  0  0]\n",
      " [ 0  0  0 53  0  0  0  0  1  0]\n",
      " [ 0  0  0  0 48  0  0  0  0  0]\n",
      " [ 0  0  0  0  0 55  1  0  0  1]\n",
      " [ 0  0  0  0  0  0 60  0  0  0]\n",
      " [ 0  0  0  0  0  0  0 53  0  0]\n",
      " [ 0  1  0  0  0  0  0  0 60  0]\n",
      " [ 0  0  0  0  0  1  0  0  0 56]]\n"
     ]
    }
   ],
   "source": [
    "clf = svm.SVC()\n",
    "clf.fit(X_train, y_train)\n",
    "pred_train = clf.predict(X_train)\n",
    "pred_test = clf.predict(X_test)\n",
    "print(\"Tasa de acierto sobre entrenamiento: {:.3f}\".format(accuracy_score(y_train, pred_train)))\n",
    "print(\"Tasa de acierto sobre test: {:.3f}\".format(accuracy_score(y_test, pred_test)))\n",
    "print(\"Matriz de confusión:\\n{}\".format(confusion_matrix(y_test, pred_test, labels=digitos.target_names)))"
   ]
  },
  {
   "cell_type": "markdown",
   "metadata": {},
   "source": [
    "Ya sin modificar los parámetros por defecto consigue muy buena puntuación, aunque esta puntuación puede variar dependiendo de cómo se haya cogido el conjunto de entrenamiento y test, así que para obtener una puntuación más fiable y la mejor combinación de parámetros utilizaremos Grid-search + validación cruzada"
   ]
  },
  {
   "cell_type": "markdown",
   "metadata": {},
   "source": [
    "**GRID SEARCH + VALIDACION CRUZADA**"
   ]
  },
  {
   "cell_type": "markdown",
   "metadata": {},
   "source": [
    "Scikitlearn ya proporciona una función que implementa estas dos técnicas."
   ]
  },
  {
   "cell_type": "code",
   "execution_count": 21,
   "metadata": {},
   "outputs": [],
   "source": [
    "from sklearn.model_selection import GridSearchCV"
   ]
  },
  {
   "cell_type": "markdown",
   "metadata": {},
   "source": [
    "Primero definimos los valores de los parámetros que vamos a buscar:"
   ]
  },
  {
   "cell_type": "code",
   "execution_count": 22,
   "metadata": {},
   "outputs": [],
   "source": [
    "parametros = {\"gamma\": [0.001, 0.01, 0.1, 1, 10, 100],\"C\": [0.001, 0.01, 0.1, 1, 10, 100]}"
   ]
  },
  {
   "cell_type": "markdown",
   "metadata": {},
   "source": [
    "Después se crea el objeto GridSearchCV, se entrena, al entrenar se prueba entre todas las combinaciones de parámetros dados y se queda con la que mejor media de puntuación dé utilizando validación cruzada, dejando el conjunto de test para hacer una medición final del rendimiento."
   ]
  },
  {
   "cell_type": "code",
   "execution_count": 23,
   "metadata": {},
   "outputs": [],
   "source": [
    "clf = svm.SVC()\n",
    "gs_clf = GridSearchCV(clf, parametros).fit(X_train, y_train)"
   ]
  },
  {
   "cell_type": "code",
   "execution_count": 24,
   "metadata": {},
   "outputs": [
    {
     "name": "stdout",
     "output_type": "stream",
     "text": [
      "Mejores parámetros: {'C': 10, 'gamma': 0.001}\n",
      "Mejor resultado sobre validación: 0.991\n",
      "Evaluación sobre el conjunto de test: 0.991\n",
      "Matriz de confusión:\n",
      "[[45  0  0  0  0  0  0  0  0  0]\n",
      " [ 0 52  0  0  0  0  0  0  0  0]\n",
      " [ 0  0 52  0  0  0  0  1  0  0]\n",
      " [ 0  0  0 54  0  0  0  0  0  0]\n",
      " [ 0  0  0  0 48  0  0  0  0  0]\n",
      " [ 0  0  0  0  0 55  1  0  0  1]\n",
      " [ 0  0  0  0  0  0 60  0  0  0]\n",
      " [ 0  0  0  0  0  0  0 53  0  0]\n",
      " [ 0  1  0  0  0  0  0  0 60  0]\n",
      " [ 0  0  0  0  0  1  0  0  0 56]]\n"
     ]
    }
   ],
   "source": [
    "print(\"Mejores parámetros:\",gs_clf.best_params_)\n",
    "print(\"Mejor resultado sobre validación: {:.3f}\".format(gs_clf.best_score_))\n",
    "\n",
    "pred_test = gs_clf.predict(X_test)\n",
    "print(\"Evaluación sobre el conjunto de test: {:.3f}\".format(accuracy_score(y_test, pred_test)))\n",
    "print(\"Matriz de confusión:\\n{}\".format(confusion_matrix(y_test, pred_test, labels=digitos.target_names)))"
   ]
  },
  {
   "cell_type": "markdown",
   "metadata": {},
   "source": [
    "Este es el clasificador con el que mejor puntuación he obtenido, con un 99% de acierto sobre el conjunto de test. Sin embargo se podría mejorar, por ejemplo, creando un clasificador binario para que diferencie entre el 5 y el 9, que es uno de los fallos que se ven en la matriz de confusión."
   ]
  },
  {
   "cell_type": "markdown",
   "metadata": {},
   "source": [
    "Primero separamos de los datos originales los clasificados con un 5 o un 9."
   ]
  },
  {
   "cell_type": "code",
   "execution_count": 25,
   "metadata": {},
   "outputs": [],
   "source": [
    "X_train_59, y_train_59 = zip(*[(x,y) for x,y in zip(X_train, y_train)  if y==5 or y==9])\n",
    "X_test_59, y_test_59 = zip(*[(x,y) for x,y in zip(X_test, y_test)  if y==5 or y==9])"
   ]
  },
  {
   "cell_type": "markdown",
   "metadata": {},
   "source": [
    "Para este clasificador binario utilizaré **random forest**, dado que el tamaño de este conjunto de datos es menor podemos utilizar un método más potente. "
   ]
  },
  {
   "cell_type": "code",
   "execution_count": 26,
   "metadata": {},
   "outputs": [],
   "source": [
    "from sklearn.ensemble import RandomForestClassifier"
   ]
  },
  {
   "cell_type": "code",
   "execution_count": 27,
   "metadata": {},
   "outputs": [],
   "source": [
    "clf_59 = RandomForestClassifier(random_state=0).fit(X_train_59, y_train_59)"
   ]
  },
  {
   "cell_type": "code",
   "execution_count": 28,
   "metadata": {},
   "outputs": [
    {
     "name": "stdout",
     "output_type": "stream",
     "text": [
      "Tasa de acierto sobre entrenamiento: 1.000\n",
      "Tasa de acierto sobre test: 0.965\n",
      "Matriz de confusión:\n",
      "[[55  2]\n",
      " [ 2 55]]\n"
     ]
    }
   ],
   "source": [
    "pred_train_59 = clf_59.predict(X_train_59)\n",
    "pred_test_59 = clf_59.predict(X_test_59)\n",
    "print(\"Tasa de acierto sobre entrenamiento: {:.3f}\".format(accuracy_score(y_train_59, pred_train_59)))\n",
    "print(\"Tasa de acierto sobre test: {:.3f}\".format(accuracy_score(y_test_59, pred_test_59)))\n",
    "print(\"Matriz de confusión:\\n{}\".format(confusion_matrix(y_test_59, pred_test_59), labels=[1,8]))"
   ]
  },
  {
   "cell_type": "markdown",
   "metadata": {},
   "source": [
    "Aunque este nuevo clasificador binario falla en más ocasiones que el que utiliza SVM con one vs rest, por lo que no tiene demasiado sentido implementarlo para resolver el problema de distinguir entre el 5 y el 9."
   ]
  },
  {
   "cell_type": "markdown",
   "metadata": {},
   "source": [
    "Ya con nuestro clasificador entrenado vamos a mostrar los resultados que obtenemos, para ellos utilizamos la función metrics que nos proporciona sklearn:"
   ]
  },
  {
   "cell_type": "code",
   "execution_count": 29,
   "metadata": {},
   "outputs": [],
   "source": [
    "from sklearn import metrics"
   ]
  },
  {
   "cell_type": "code",
   "execution_count": 30,
   "metadata": {},
   "outputs": [
    {
     "name": "stdout",
     "output_type": "stream",
     "text": [
      "              precision    recall  f1-score   support\n",
      "\n",
      "           0       1.00      1.00      1.00        45\n",
      "           1       0.98      1.00      0.99        52\n",
      "           2       1.00      0.98      0.99        53\n",
      "           3       1.00      1.00      1.00        54\n",
      "           4       1.00      1.00      1.00        48\n",
      "           5       0.98      0.96      0.97        57\n",
      "           6       0.98      1.00      0.99        60\n",
      "           7       0.98      1.00      0.99        53\n",
      "           8       1.00      0.98      0.99        61\n",
      "           9       0.98      0.98      0.98        57\n",
      "\n",
      "    accuracy                           0.99       540\n",
      "   macro avg       0.99      0.99      0.99       540\n",
      "weighted avg       0.99      0.99      0.99       540\n",
      "\n"
     ]
    }
   ],
   "source": [
    "print(metrics.classification_report(y_test, pred_test,target_names=[\"{:d}\".format(i) for i in range(10)]))"
   ]
  },
  {
   "cell_type": "markdown",
   "metadata": {},
   "source": [
    "Podemos ver que conseguimos un muy buen resultado, quizás destacar que el número que más le cuesta clasificar es el cinco, el cual acierta al clasificar en un 98% de las veces, aunque el porcentajes de cincos clasificados correctamente baja al 96%."
   ]
  },
  {
   "cell_type": "markdown",
   "metadata": {},
   "source": [
    "Vamos a mostrar ahora algunos ejemplos en los que el clasifiacador clasifica correctamente y otros en los que no."
   ]
  },
  {
   "cell_type": "code",
   "execution_count": 31,
   "metadata": {},
   "outputs": [],
   "source": [
    "bien_clasificadas = []\n",
    "mal_clasificadas = []\n",
    "for i in range(len(digitos.data)):\n",
    "    c = gs_clf.predict([digitos.data[i]])\n",
    "    if(c != [digitos.target[i]]):\n",
    "        mal_clasificadas.append((i,c[0]))\n",
    "    else:\n",
    "        bien_clasificadas.append((i,c[0]))"
   ]
  },
  {
   "cell_type": "code",
   "execution_count": 32,
   "metadata": {},
   "outputs": [],
   "source": [
    "import random"
   ]
  },
  {
   "cell_type": "code",
   "execution_count": 33,
   "metadata": {},
   "outputs": [
    {
     "name": "stdout",
     "output_type": "stream",
     "text": [
      "Un par de imagenes bien clasificadas:\n"
     ]
    },
    {
     "data": {
      "text/plain": [
       "<Figure size 432x288 with 0 Axes>"
      ]
     },
     "metadata": {},
     "output_type": "display_data"
    },
    {
     "data": {
      "image/png": "[encoded data removed]",
      "text/plain": [
       "<Figure size 288x288 with 1 Axes>"
      ]
     },
     "metadata": {
      "needs_background": "light"
     },
     "output_type": "display_data"
    },
    {
     "name": "stdout",
     "output_type": "stream",
     "text": [
      "Clase de la imagen: 4\n",
      "Clasificada como: 4\n"
     ]
    },
    {
     "data": {
      "text/plain": [
       "<Figure size 432x288 with 0 Axes>"
      ]
     },
     "metadata": {},
     "output_type": "display_data"
    },
    {
     "data": {
      "image/png": "[encoded data removed]",
      "text/plain": [
       "<Figure size 288x288 with 1 Axes>"
      ]
     },
     "metadata": {
      "needs_background": "light"
     },
     "output_type": "display_data"
    },
    {
     "name": "stdout",
     "output_type": "stream",
     "text": [
      "Clase de la imagen: 8\n",
      "Clasificada como: 8\n"
     ]
    }
   ],
   "source": [
    "print(\"Un par de imagenes bien clasificadas:\")\n",
    "for i,c in random.sample(bien_clasificadas, k=2):\n",
    "    plt.gray()\n",
    "    plt.matshow(digitos.images[i]) \n",
    "    plt.show() \n",
    "    print(\"Clase de la imagen: {}\".format(digitos.target[i]))\n",
    "    print(\"Clasificada como:\",c)\n"
   ]
  },
  {
   "cell_type": "code",
   "execution_count": 34,
   "metadata": {},
   "outputs": [
    {
     "name": "stdout",
     "output_type": "stream",
     "text": [
      "Un par de imagenes mal clasificadas:\n"
     ]
    },
    {
     "data": {
      "text/plain": [
       "<Figure size 432x288 with 0 Axes>"
      ]
     },
     "metadata": {},
     "output_type": "display_data"
    },
    {
     "data": {
      "image/png": "[encoded data removed]",
      "text/plain": [
       "<Figure size 288x288 with 1 Axes>"
      ]
     },
     "metadata": {
      "needs_background": "light"
     },
     "output_type": "display_data"
    },
    {
     "name": "stdout",
     "output_type": "stream",
     "text": [
      "Clase de la imagen: 5\n",
      "Clasificada como: 9\n"
     ]
    },
    {
     "data": {
      "text/plain": [
       "<Figure size 432x288 with 0 Axes>"
      ]
     },
     "metadata": {},
     "output_type": "display_data"
    },
    {
     "data": {
      "image/png": "[encoded data removed]",
      "text/plain": [
       "<Figure size 288x288 with 1 Axes>"
      ]
     },
     "metadata": {
      "needs_background": "light"
     },
     "output_type": "display_data"
    },
    {
     "name": "stdout",
     "output_type": "stream",
     "text": [
      "Clase de la imagen: 9\n",
      "Clasificada como: 5\n"
     ]
    }
   ],
   "source": [
    "print(\"Un par de imagenes mal clasificadas:\")\n",
    "for i,c in random.sample(mal_clasificadas, k=2):\n",
    "    plt.gray()\n",
    "    plt.matshow(digitos.images[i]) \n",
    "    plt.show() \n",
    "    print(\"Clase de la imagen: {}\".format(digitos.target[i]))\n",
    "    print(\"Clasificada como:\",c)\n",
    "    "
   ]
  }
 ],
 "metadata": {
  "kernelspec": {
   "display_name": "Python 3",
   "language": "python",
   "name": "python3"
  },
  "language_info": {
   "codemirror_mode": {
    "name": "ipython",
    "version": 3
   },
   "file_extension": ".py",
   "mimetype": "text/x-python",
   "name": "python",
   "nbconvert_exporter": "python",
   "pygments_lexer": "ipython3",
   "version": "3.7.6"
  }
 },
 "nbformat": 4,
 "nbformat_minor": 2
}
